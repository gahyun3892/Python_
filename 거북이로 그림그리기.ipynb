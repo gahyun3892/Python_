{
 "cells": [
  {
   "cell_type": "markdown",
   "metadata": {},
   "source": [
    "### 거북이로 그림그리기"
   ]
  },
  {
   "cell_type": "code",
   "execution_count": null,
   "metadata": {},
   "outputs": [],
   "source": [
    "from turtle import *\n",
    "color('red', 'yellow')\n",
    "begin_fill()\n",
    "while True:\n",
    "    forward(200)\n",
    "    left(170)\n",
    "    if abs(pos()) < 1:\n",
    "        break\n",
    "end_fill()\n",
    "done()"
   ]
  },
  {
   "cell_type": "code",
   "execution_count": 4,
   "metadata": {},
   "outputs": [
    {
     "ename": "Terminator",
     "evalue": "",
     "output_type": "error",
     "traceback": [
      "\u001b[1;31m---------------------------------------------------------------------------\u001b[0m",
      "\u001b[1;31mTerminator\u001b[0m                                Traceback (most recent call last)",
      "\u001b[1;32m<ipython-input-4-f6e57fb748c5>\u001b[0m in \u001b[0;36m<module>\u001b[1;34m\u001b[0m\n\u001b[0;32m      2\u001b[0m \u001b[0mt\u001b[0m\u001b[1;33m.\u001b[0m\u001b[0mfd\u001b[0m\u001b[1;33m:\u001b[0m\u001b[1;33m(\u001b[0m\u001b[1;36m200\u001b[0m\u001b[1;33m)\u001b[0m\u001b[1;33m\u001b[0m\u001b[1;33m\u001b[0m\u001b[0m\n\u001b[0;32m      3\u001b[0m \u001b[0mt\u001b[0m\u001b[1;33m.\u001b[0m\u001b[0mexitonclick\u001b[0m\u001b[1;33m(\u001b[0m\u001b[1;33m)\u001b[0m\u001b[1;33m\u001b[0m\u001b[1;33m\u001b[0m\u001b[0m\n\u001b[1;32m----> 4\u001b[1;33m \u001b[0mt\u001b[0m\u001b[1;33m.\u001b[0m\u001b[0mscreensize\u001b[0m\u001b[1;33m(\u001b[0m\u001b[1;36m200\u001b[0m\u001b[1;33m,\u001b[0m\u001b[1;36m150\u001b[0m\u001b[1;33m)\u001b[0m\u001b[1;33m\u001b[0m\u001b[1;33m\u001b[0m\u001b[0m\n\u001b[0m",
      "\u001b[1;32m~\\Anaconda3\\lib\\turtle.py\u001b[0m in \u001b[0;36mscreensize\u001b[1;34m(canvwidth, canvheight, bg)\u001b[0m\n",
      "\u001b[1;31mTerminator\u001b[0m: "
     ]
    }
   ],
   "source": [
    "import turtle as t\n",
    "t.fd:(200)\n",
    "t.exitonclick()\n",
    "t.screensize(200,150)"
   ]
  },
  {
   "cell_type": "code",
   "execution_count": 11,
   "metadata": {},
   "outputs": [],
   "source": [
    "import turtle as t\n",
    "\n",
    "t.shape('turtle')\n",
    "t.fd(200)\n",
    "t.left(90)\n",
    "t.fd(200)\n",
    "t.left(90)\n",
    "t.fd(200)\n",
    "t.left(90)\n",
    "t.fd(200)\n",
    "t.left(90)\n",
    "t.exitonclick()"
   ]
  },
  {
   "cell_type": "code",
   "execution_count": 17,
   "metadata": {},
   "outputs": [],
   "source": [
    "import turtle as t\n",
    "t.color('red', 'yellow')\n",
    "t.begin_fill()\n",
    "t.shape('turtle')\n",
    "t.fd(200)\n",
    "t.left(120)\n",
    "t.fd(200)\n",
    "t.left(120)\n",
    "t.fd(200)\n",
    "t.left(120)\n",
    "t.end_fill()\n",
    "t.exitonclick()"
   ]
  },
  {
   "cell_type": "code",
   "execution_count": null,
   "metadata": {},
   "outputs": [],
   "source": []
  },
  {
   "cell_type": "code",
   "execution_count": 19,
   "metadata": {},
   "outputs": [],
   "source": [
    "import turtle as t\n",
    "t.color('red', 'yellow')\n",
    "t.begin_fill()\n",
    "t.shape('turtle')\n",
    "for i in range (3) :\n",
    "    t.fd(200)\n",
    "    t.left(120)\n",
    "t.end_fill()\n",
    "t.exitonclick()"
   ]
  },
  {
   "cell_type": "code",
   "execution_count": 23,
   "metadata": {},
   "outputs": [],
   "source": [
    "import turtle as t\n",
    "t.color('red', 'yellow')\n",
    "t.begin_fill()\n",
    "t.shape('turtle')\n",
    "for i in range (5) :\n",
    "    t.fd(200)\n",
    "    t.left(72)\n",
    "t.end_fill()\n",
    "t.exitonclick()"
   ]
  },
  {
   "cell_type": "code",
   "execution_count": 27,
   "metadata": {},
   "outputs": [
    {
     "name": "stdout",
     "output_type": "stream",
     "text": [
      "몇각형7\n"
     ]
    }
   ],
   "source": [
    "import turtle as t\n",
    "t.color('red', 'yellow')\n",
    "t.begin_fill()\n",
    "t.shape('turtle')\n",
    "angle = int(input(\"몇각형\"))\n",
    "for i in range (angle) :\n",
    "    t.fd(200)\n",
    "    t.left(360/angle)\n",
    "t.end_fill()\n",
    "t.exitonclick()"
   ]
  },
  {
   "cell_type": "code",
   "execution_count": 59,
   "metadata": {},
   "outputs": [],
   "source": [
    "import turtle as t\n",
    "t.color('red', 'black')\n",
    "t.begin_fill()\n",
    "t.shape('turtle')\n",
    "for i in range (3) :\n",
    "    t.fd(200)\n",
    "    t.left(120)\n",
    "for i in range (3) :\n",
    "    t.fd(200)\n",
    "    t.right(120)\n",
    "for i in range (6) :\n",
    "    t.fd(200)\n",
    "    t.right(60)\n",
    "t.fd(200)\n",
    "t.left(60)\n",
    "t.fd(200)\n",
    "t.left(60)\n",
    "t.fd(200)\n",
    "t.left(60)\n",
    "t.fd(200)\n",
    "t.left(60)\n",
    "t.fd(200)\n",
    "t.left(60)\n",
    "t.fd(200)\n",
    "t.left(60)\n",
    "t.end_fill()\n",
    "t.exitonclick()"
   ]
  }
 ],
 "metadata": {
  "kernelspec": {
   "display_name": "Python 3",
   "language": "python",
   "name": "python3"
  },
  "language_info": {
   "codemirror_mode": {
    "name": "ipython",
    "version": 3
   },
   "file_extension": ".py",
   "mimetype": "text/x-python",
   "name": "python",
   "nbconvert_exporter": "python",
   "pygments_lexer": "ipython3",
   "version": "3.7.4"
  }
 },
 "nbformat": 4,
 "nbformat_minor": 2
}
