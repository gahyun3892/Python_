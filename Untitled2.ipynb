{
 "cells": [
  {
   "cell_type": "code",
   "execution_count": 12,
   "metadata": {},
   "outputs": [],
   "source": [
    "class person():\n",
    "    def __init__(self, name, age = 5 ,time = 1):\n",
    "        print(self, 'is Good')\n",
    "        self.name = name\n",
    "        self.age = age\n",
    "        self.time = time\n",
    "    def sleep(self):\n",
    "        print(\"self:\", self)\n",
    "        print(self.name,'은 잠을 잔다')\n",
    "        \n",
    "    def game(self):\n",
    "        print(\"self:\", self)\n",
    "        print(self.name,'은 ' ,self.time, '분 동안 게임을 햇다')"
   ]
  },
  {
   "cell_type": "code",
   "execution_count": 9,
   "metadata": {},
   "outputs": [
    {
     "name": "stdout",
     "output_type": "stream",
     "text": [
      "<__main__.person object at 0x0000020C7A116208> is Good\n",
      "self: <__main__.person object at 0x0000020C7A116208>\n",
      "박가현 은 잠을 잔다\n"
     ]
    }
   ],
   "source": [
    "p5 = person('박가현', 20)\n",
    "p5.sleep()"
   ]
  },
  {
   "cell_type": "code",
   "execution_count": 13,
   "metadata": {},
   "outputs": [
    {
     "name": "stdout",
     "output_type": "stream",
     "text": [
      "self: <__main__.person object at 0x0000020C7A116208>\n",
      "박가현 은  20 분 동안 게임을 햇다\n"
     ]
    }
   ],
   "source": [
    "p5.game()"
   ]
  },
  {
   "cell_type": "code",
   "execution_count": 15,
   "metadata": {},
   "outputs": [],
   "source": [
    "a = list()\n",
    "a.append(10)"
   ]
  },
  {
   "cell_type": "code",
   "execution_count": 16,
   "metadata": {},
   "outputs": [
    {
     "data": {
      "text/plain": [
       "['test', 'good']"
      ]
     },
     "execution_count": 16,
     "metadata": {},
     "output_type": "execute_result"
    }
   ],
   "source": [
    "s = 'test good'\n",
    "s.split()"
   ]
  },
  {
   "cell_type": "code",
   "execution_count": null,
   "metadata": {},
   "outputs": [],
   "source": [
    "아 몰랑 OwO"
   ]
  },
  {
   "cell_type": "code",
   "execution_count": 36,
   "metadata": {},
   "outputs": [],
   "source": [
    "class person():\n",
    "    def __init__(self, name, age):\n",
    "        print(self, 'is Good')\n",
    "        self.name = name\n",
    "        self.age = age\n",
    "        \n",
    "    def eat(self, food):\n",
    "        self.food = food\n",
    "        print('{}이는 어제 {}을 먹었다'.format(self.name,self.food))\n",
    "    \n",
    "    def sleep(self, time):\n",
    "        self.time = time\n",
    "        print('{}이는 어제 {}시간동안 잤다'.format(self.name,self.time))\n",
    "        \n",
    "    def go(self, job):\n",
    "        self.job = job\n",
    "        print('{}는 졸업후에 {}에 다닌다'.format(self.name,self.job))\n",
    "        \n",
    "class student(person):\n",
    "    def __init__(self, name, age):\n",
    "        print(self, 'is Good')\n",
    "        self.name = name\n",
    "        self.age = age\n",
    "        \n",
    "    def sleep(self, time):\n",
    "        super().sleep(time)\n",
    "        print('{}이는 어제 {}시간동안 게임할거다'.format(self.name,self.time))\n",
    "\n",
    "class Employse:\n",
    "    def sleep(self, time):\n",
    "        super().sleep(time)\n",
    "        print('{}이는 어제 {}시간동안 게임할거다'.format(self.name,self.time))\n"
   ]
  },
  {
   "cell_type": "code",
   "execution_count": 37,
   "metadata": {},
   "outputs": [
    {
     "name": "stdout",
     "output_type": "stream",
     "text": [
      "<__main__.person object at 0x0000020C7A12E948> is Good\n",
      "김환이는 어제 치킨을 먹었다\n",
      "김환이는 어제 12시간동안 잤다\n",
      "김환는 졸업후에 인하대 컴퓨터공학과에 다닌다\n"
     ]
    }
   ],
   "source": [
    "p6 = person('김환',20)\n",
    "p6.eat('치킨')\n",
    "p6.sleep('12')\n",
    "p6.go('인하대 컴퓨터공학과')"
   ]
  },
  {
   "cell_type": "code",
   "execution_count": 47,
   "metadata": {},
   "outputs": [],
   "source": [
    "class person():\n",
    "    def __init__(self, name, age):\n",
    "        print(self, 'is Good')\n",
    "        self.name = name\n",
    "        self.age = age\n",
    "        \n",
    "    def eat(self, food):\n",
    "        self.food = food\n",
    "        print('{}이는 어제 {}을 먹었다'.format(self.name,self.food))\n",
    "    \n",
    "    def sleep(self, time):\n",
    "        self.time = time\n",
    "        print('{}이는 어제 {}시간동안 잤다'.format(self.name,self.time))\n",
    "        \n",
    "    def go(self, job):\n",
    "        self.job = job\n",
    "        print('{}는 졸업후에 {}에 다닌다'.format(self.name,self.job))\n",
    "        \n",
    "class student(person):\n",
    "    def __init__(self, name, age):\n",
    "        print(self, 'is Good')\n",
    "        self.name = name\n",
    "        self.age = age\n",
    "        \n",
    "    def sleep(self, time):\n",
    "        super().sleep(time)\n",
    "        print('{}이는 어제 {}시간동안 게임할거다'.format(self.name,self.time))\n",
    "\n",
    "class Employse(person):\n",
    "    def __init__(self, name, age):\n",
    "        print(self, 'is Good')\n",
    "        self.name = name\n",
    "        self.age = age\n",
    "        \n",
    "        \n",
    "    def go(self, jop):\n",
    "        super().go(jop)\n",
    "        print('{}는 {}졸업후 이세계로 갔다'.format(self.name,jop))\n"
   ]
  },
  {
   "cell_type": "code",
   "execution_count": 45,
   "metadata": {},
   "outputs": [
    {
     "name": "stdout",
     "output_type": "stream",
     "text": [
      "<__main__.student object at 0x0000020C7A1C0548> is Good\n",
      "김환이는 어제 치킨을 먹었다\n",
      "김환이는 어제 12시간동안 잤다\n",
      "김환이는 어제 12시간동안 게임할거다\n",
      "김환는 졸업후에 인하대 컴퓨터공학과에 다닌다\n"
     ]
    }
   ],
   "source": [
    "p7 = student('김환',20)\n",
    "p7.eat('치킨')\n",
    "p7.sleep('12')\n",
    "p7.go('인하대 컴퓨터공학과')"
   ]
  },
  {
   "cell_type": "code",
   "execution_count": 48,
   "metadata": {},
   "outputs": [
    {
     "name": "stdout",
     "output_type": "stream",
     "text": [
      "<__main__.Employse object at 0x0000020C7A1DB2C8> is Good\n",
      "김환이는 어제 치킨을 먹었다\n",
      "김환이는 어제 12시간동안 잤다\n",
      "김환는 졸업후에 인하대 컴퓨터공학과에 다닌다\n",
      "김환는 인하대 컴퓨터공학과졸업후 이세계로 갔다\n"
     ]
    }
   ],
   "source": [
    "p8 = Employse('김환',20)\n",
    "p8.eat('치킨')\n",
    "p8.sleep('12')\n",
    "p8.go('인하대 컴퓨터공학과')"
   ]
  }
 ],
 "metadata": {
  "kernelspec": {
   "display_name": "Python 3",
   "language": "python",
   "name": "python3"
  },
  "language_info": {
   "codemirror_mode": {
    "name": "ipython",
    "version": 3
   },
   "file_extension": ".py",
   "mimetype": "text/x-python",
   "name": "python",
   "nbconvert_exporter": "python",
   "pygments_lexer": "ipython3",
   "version": "3.7.4"
  }
 },
 "nbformat": 4,
 "nbformat_minor": 4
}
